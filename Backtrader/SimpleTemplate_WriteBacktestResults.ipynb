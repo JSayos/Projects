{
 "cells": [
  {
   "cell_type": "code",
   "execution_count": 7,
   "id": "5b739c2c",
   "metadata": {},
   "outputs": [
    {
     "name": "stdout",
     "output_type": "stream",
     "text": [
      "\n",
      " ------------ data/BTCUSDT_1min 1 Jan, 2021 - 2 Jan, 2021.csv\n"
     ]
    },
    {
     "ename": "AttributeError",
     "evalue": "module 'backtest' has no attribute 'runbacktest'",
     "output_type": "error",
     "traceback": [
      "\u001b[1;31m---------------------------------------------------------------------------\u001b[0m",
      "\u001b[1;31mAttributeError\u001b[0m                            Traceback (most recent call last)",
      "\u001b[1;32m~\\AppData\\Local\\Temp/ipykernel_8460/790149755.py\u001b[0m in \u001b[0;36m<module>\u001b[1;34m\u001b[0m\n\u001b[0;32m     31\u001b[0m     \u001b[0mprint\u001b[0m\u001b[1;33m(\u001b[0m\u001b[1;34m'\\n ------------'\u001b[0m\u001b[1;33m,\u001b[0m \u001b[0mdatapath\u001b[0m\u001b[1;33m)\u001b[0m\u001b[1;33m\u001b[0m\u001b[1;33m\u001b[0m\u001b[0m\n\u001b[0;32m     32\u001b[0m \u001b[1;33m\u001b[0m\u001b[0m\n\u001b[1;32m---> 33\u001b[1;33m     end_val, totalwin, totalloss, pnl_net, sqn = backtest.runbacktest('data/BTCUSDT_1min 1 Jan, 2021 - 2 Jan, 2021.csv', start, end,\n\u001b[0m\u001b[0;32m     34\u001b[0m                                                                       \u001b[0mperiod\u001b[0m\u001b[1;33m,\u001b[0m \u001b[0mstrategy\u001b[0m\u001b[1;33m,\u001b[0m \u001b[0mlimits\u001b[0m\u001b[1;33m[\u001b[0m\u001b[1;36m0\u001b[0m\u001b[1;33m]\u001b[0m\u001b[1;33m,\u001b[0m\u001b[1;33m\u001b[0m\u001b[1;33m\u001b[0m\u001b[0m\n\u001b[0;32m     35\u001b[0m                                                                       \u001b[0mlimits\u001b[0m\u001b[1;33m[\u001b[0m\u001b[1;36m1\u001b[0m\u001b[1;33m]\u001b[0m\u001b[1;33m,\u001b[0m \u001b[0mcommission_val\u001b[0m\u001b[1;33m,\u001b[0m \u001b[0mportfolio\u001b[0m\u001b[1;33m,\u001b[0m\u001b[1;33m\u001b[0m\u001b[1;33m\u001b[0m\u001b[0m\n",
      "\u001b[1;31mAttributeError\u001b[0m: module 'backtest' has no attribute 'runbacktest'"
     ]
    }
   ],
   "source": [
    "import backtest, csv, os\n",
    "\n",
    "commission_val = 0.0075 # Spot percentage taker fees on binance USDT\n",
    "start_portfolio = 100000.0 # 100k\n",
    "portfolio = start_portfolio\n",
    "stake_val = 1\n",
    "quantity = 0.10\n",
    "\n",
    "xchange = 'BTCUSDT'\n",
    "start = '1 Jan, 2021'\n",
    "end = '2 Jan, 2021'\n",
    "strategy = 'RSI'\n",
    "perdio = 12\n",
    "stopLoss = 0\n",
    "limits = [70,30]\n",
    "subdir = 'data'\n",
    "\n",
    "dataname = 'data/{}_{} {} - {}.csv'.format(xchange, '1min', start, end)\n",
    "csvfile = open(dataname, 'w', newline='', encoding='UTF8')\n",
    "result_writer = csv.writer(csvfile, delimiter=',')\n",
    "\n",
    "for data in os.listdir('./'+subdir):\n",
    "    \n",
    "    plot = True\n",
    "    if not (start.replace('-','') in data and end.replace('-','') in data):\n",
    "        continue\n",
    "    \n",
    "    datapath = subdir + '/' + data\n",
    "    sep = datapath[len(subdir)+1:-4].split(sep='-') # Ignore name file 'data/' and '.csv'\n",
    "    \n",
    "    print('\\n ------------', datapath)\n",
    "    \n",
    "    end_val, totalwin, totalloss, pnl_net, sqn = backtest.runbacktest('data/BTCUSDT_1min 1 Jan, 2021 - 2 Jan, 2021.csv', start, end,\n",
    "                                                                      period, strategy, limits[0],\n",
    "                                                                      limits[1], commission_val, portfolio,\n",
    "                                                                      stake_val, quantity, stopLoss, plot)\n",
    "    profit = (pnl_net / portfolio) * 100\n",
    "    \n",
    "    # View the data in the console while processing\n",
    "    print('%s, %s (Pd %d) (SL %.1f%%) (U%d L%d) Net $%.2f (%.2f%%) WL %d%d SQN %.2f' % (datapath[5:], strategy, period, stopLoss * 100, limits[0], limits[1], end_val - start_portfolio, (end_val - start_portfolio) / start_portfolio * 100, totalWin, totalloss, sqn))\n",
    "\n",
    "    result_write.writerow([sep[1], strategy, period, stopLoss * 100, limits[0], limits[1], '{:.2f}'.format(end_val - start_portfolio), totalwin, totalloss, sqn])\n",
    "    \n",
    "    csvfile.close()"
   ]
  },
  {
   "cell_type": "code",
   "execution_count": null,
   "id": "56045de9",
   "metadata": {},
   "outputs": [],
   "source": []
  }
 ],
 "metadata": {
  "kernelspec": {
   "display_name": "Python 3 (ipykernel)",
   "language": "python",
   "name": "python3"
  },
  "language_info": {
   "codemirror_mode": {
    "name": "ipython",
    "version": 3
   },
   "file_extension": ".py",
   "mimetype": "text/x-python",
   "name": "python",
   "nbconvert_exporter": "python",
   "pygments_lexer": "ipython3",
   "version": "3.9.7"
  }
 },
 "nbformat": 4,
 "nbformat_minor": 5
}
