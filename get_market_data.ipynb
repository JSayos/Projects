{
 "cells": [
  {
   "cell_type": "markdown",
   "id": "6629612b",
   "metadata": {},
   "source": [
    "You can download market data for various cryptocurrency pairs from Binance with your API keys via a beautiful tkinter GUI.\n",
    "\n",
    "I use this notebook to gather historical price data to backtest my algorithmic trading strategies."
   ]
  },
  {
   "cell_type": "markdown",
   "id": "344cb121",
   "metadata": {},
   "source": [
    "---"
   ]
  },
  {
   "cell_type": "code",
   "execution_count": 1,
   "id": "cb4245af",
   "metadata": {},
   "outputs": [],
   "source": [
    "import csv\n",
    "from binance import Client\n",
    "\n",
    "from tkinter import *\n",
    "import tkinter as tk\n",
    "from tkcalendar import *\n",
    "import datetime\n",
    "from datetime import date\n",
    "from datetime import datetime as dt"
   ]
  },
  {
   "cell_type": "markdown",
   "id": "6f14fc18",
   "metadata": {},
   "source": [
    "---"
   ]
  },
  {
   "cell_type": "markdown",
   "id": "85e12e45",
   "metadata": {},
   "source": [
    "Tkinter GUI for selecting a timeframe for history market data."
   ]
  },
  {
   "cell_type": "code",
   "execution_count": 2,
   "id": "9de26604",
   "metadata": {},
   "outputs": [],
   "source": [
    "today = date.today()\n",
    "mindate = date(year = 2020,\n",
    "                        month = 1,\n",
    "                        day = 1)\n",
    "maxdate = today - datetime.timedelta(days = 1)\n",
    "\n",
    "selectedStartDate = date.today()\n",
    "selectedEndDate = date.today()\n",
    "\n",
    "root = Tk()\n",
    "root.title('Date Picker')\n",
    "\n",
    "\n",
    "cal = Calendar(root, selectmode=\"day\",\n",
    "               year=dt.today().year, month=dt.now().month,\n",
    "               day=dt.now().day, mindate = mindate, maxdate = maxdate)\n",
    "cal.pack(pady=20)\n",
    "\n",
    "def set_start_date():\n",
    "    global selectedStartDate\n",
    "    start_date.config(text=cal.get_date())\n",
    "    selectedStartDate = cal.get_date()\n",
    "def set_end_date():\n",
    "    global selectedEndDate\n",
    "    end_date.config(text=cal.get_date())\n",
    "    selectedEndDate = cal.get_date()\n",
    "def quit():\n",
    "    root.destroy()\n",
    "\n",
    "startdate_btn = Button(root, text='Set Start Date', command=set_start_date)\n",
    "enddate_btn = Button(root,text='Set End Date', command=set_end_date)\n",
    "startdate_btn.pack(side=tk.LEFT)\n",
    "enddate_btn.pack(side=tk.RIGHT)\n",
    "quit_btn = Button(root,text='Quit', command=quit)\n",
    "quit_btn.pack(side=tk.BOTTOM)\n",
    "\n",
    "start_date = Label(root,text=\"\")\n",
    "start_date.pack(pady=20, padx=0)\n",
    "end_date = Label(root,text=\"\")\n",
    "end_date.pack(pady=20, padx= 40)\n",
    "\n",
    "root.mainloop()"
   ]
  },
  {
   "cell_type": "markdown",
   "id": "9a059a22",
   "metadata": {},
   "source": [
    "---"
   ]
  },
  {
   "cell_type": "markdown",
   "id": "140a63f9",
   "metadata": {},
   "source": [
    "Cleaning and processing date data for binance.client"
   ]
  },
  {
   "cell_type": "code",
   "execution_count": 3,
   "id": "303deeb6",
   "metadata": {},
   "outputs": [],
   "source": [
    "months_list = ['Jan', 'Feb', 'Mar', 'Apr', 'May', 'Jun', 'Jul', 'Aug', 'Sep', 'Oct', 'Nov', 'Dec']\n",
    "splitStartDate = selectedStartDate.split('/')\n",
    "splitEndDate = selectedEndDate.split('/')\n",
    "startDay = splitStartDate[1]+' '\n",
    "endDay = splitEndDate[1]+' '\n",
    "startMonth = months_list[int(splitStartDate[0])-1]+', '\n",
    "endMonth = months_list[int(splitEndDate[0])-1]+', '\n",
    "startYear = '20'+splitStartDate[2]\n",
    "endYear = '20'+splitEndDate[2]\n",
    "\n",
    "DATE_START = (startDay+startMonth+startYear)\n",
    "DATE_END = (endDay+endMonth+endYear)"
   ]
  },
  {
   "cell_type": "markdown",
   "id": "92fa879e",
   "metadata": {},
   "source": [
    "---"
   ]
  },
  {
   "cell_type": "markdown",
   "id": "64864693",
   "metadata": {},
   "source": [
    "Selecting a currency pair that we want to retrieve market data from."
   ]
  },
  {
   "cell_type": "code",
   "execution_count": 4,
   "id": "cce6fd52",
   "metadata": {},
   "outputs": [],
   "source": [
    "currency_pairs = ['BTCUSDT','ETHUSDT','BNBUSDT','ADAUSDT','SOLUSDT','XRPUSDT','DOTUSDT']\n",
    "\n",
    "CURRENCY_PAIR = 'BTCUSDT' # Default currency pair is BTC/USDT\n",
    "\n",
    "root = Tk()\n",
    "\n",
    "dropdown_element = StringVar(root)\n",
    "dropdown_element.set(currency_pairs[0]) # Set default element (BTCUSDT)\n",
    "\n",
    "dropdown = OptionMenu(root, dropdown_element, *currency_pairs)\n",
    "dropdown.pack()\n",
    "\n",
    "def save_selected():\n",
    "    global CURRENCY_PAIR\n",
    "    CURRENCY_PAIR = dropdown_element.get()\n",
    "    root.destroy()\n",
    "    \n",
    "select_btn = Button(root, text=\"Select\", command=save_selected)\n",
    "select_btn.pack(pady = 20)\n",
    "\n",
    "mainloop()"
   ]
  },
  {
   "cell_type": "markdown",
   "id": "629355b8",
   "metadata": {},
   "source": [
    "# Insert your Binance API Key and Secret to connect your account."
   ]
  },
  {
   "cell_type": "code",
   "execution_count": 6,
   "id": "0e2b24d9",
   "metadata": {},
   "outputs": [
    {
     "name": "stdout",
     "output_type": "stream",
     "text": [
      "data/BTCUSDT_1hour 25 Nov, 2020 - 25 Nov, 2021.csv 8743\n"
     ]
    }
   ],
   "source": [
    "API_KEY = '***'\n",
    "API_SECRET = '***'\n",
    "client = Client(API_KEY, API_SECRET)\n",
    "\n",
    "datafile = 'data/'+CURRENCY_PAIR+'_'+INTERVAL+' '+DATE_START+' - '+DATE_END+'.csv'\n",
    "csvfile = open(datafile, 'w', newline='')\n",
    "candle_writer = csv.writer(csvfile, delimiter=',')\n",
    "\n",
    "candles = client.get_historical_klines(CURRENCY_PAIR, intervals[INTERVAL], DATE_START, DATE_END)\n",
    "\n",
    "for candle in candles:\n",
    "    candle[0] = candle[0] / 1000\n",
    "    candle_writer.writerow(candle)\n",
    "\n",
    "csvfile.close()\n",
    "\n",
    "print(datafile, len(candles))"
   ]
  },
  {
   "cell_type": "code",
   "execution_count": 5,
   "id": "b99ae0ba",
   "metadata": {},
   "outputs": [],
   "source": [
    "intervals = {\n",
    "'1min' : Client.KLINE_INTERVAL_1MINUTE,\n",
    "'3min' : Client.KLINE_INTERVAL_3MINUTE,\n",
    "'5min' : Client.KLINE_INTERVAL_5MINUTE,\n",
    "'15min' : Client.KLINE_INTERVAL_15MINUTE,\n",
    "'30min' : Client.KLINE_INTERVAL_30MINUTE,\n",
    "'1hour' : Client.KLINE_INTERVAL_1HOUR,\n",
    "'2hour' : Client.KLINE_INTERVAL_2HOUR,\n",
    "'4hour' : Client.KLINE_INTERVAL_4HOUR,\n",
    "'6hour' : Client.KLINE_INTERVAL_6HOUR,\n",
    "'8hour' : Client.KLINE_INTERVAL_8HOUR,\n",
    "'12hour' : Client.KLINE_INTERVAL_12HOUR,\n",
    "'1-day' : Client.KLINE_INTERVAL_1DAY,\n",
    "'3-day' : Client.KLINE_INTERVAL_3DAY,\n",
    "'1-week' : Client.KLINE_INTERVAL_1WEEK,\n",
    "'1-month' : Client.KLINE_INTERVAL_1MONTH\n",
    "}\n",
    "\n",
    "INTERVAL = intervals['1-day'] # Set default interval (1 day)\n",
    "\n",
    "root = Tk()\n",
    "\n",
    "dropdown_element = StringVar(root)\n",
    "dropdown_element.set(intervals['1-day']) # Set default element (1 day)\n",
    "\n",
    "dropdown = OptionMenu(root, dropdown_element, *intervals)\n",
    "dropdown.pack()\n",
    "\n",
    "def save_selected():\n",
    "    global INTERVAL\n",
    "    INTERVAL = dropdown_element.get()\n",
    "    root.destroy()\n",
    "    \n",
    "select_btn = Button(root, text='Select', command=save_selected)\n",
    "select_btn.pack(pady = 20)\n",
    "\n",
    "mainloop()"
   ]
  },
  {
   "cell_type": "markdown",
   "id": "53e80586",
   "metadata": {},
   "source": [
    "---"
   ]
  }
 ],
 "metadata": {
  "kernelspec": {
   "display_name": "Python 3 (ipykernel)",
   "language": "python",
   "name": "python3"
  },
  "language_info": {
   "codemirror_mode": {
    "name": "ipython",
    "version": 3
   },
   "file_extension": ".py",
   "mimetype": "text/x-python",
   "name": "python",
   "nbconvert_exporter": "python",
   "pygments_lexer": "ipython3",
   "version": "3.9.7"
  }
 },
 "nbformat": 4,
 "nbformat_minor": 5
}
